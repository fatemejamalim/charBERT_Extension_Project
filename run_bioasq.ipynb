{
 "cells": [
  {
   "cell_type": "code",
   "execution_count": null,
   "metadata": {},
   "outputs": [],
   "source": [
    "#! cd './nlp-project/datasets'"
   ]
  },
  {
   "cell_type": "code",
   "execution_count": null,
   "metadata": {},
   "outputs": [],
   "source": [
    "\n",
    "!pwd"
   ]
  },
  {
   "cell_type": "code",
   "execution_count": null,
   "metadata": {},
   "outputs": [],
   "source": [
    "\n",
    "! python ./CharBERT/run_squad.py \\\n",
    "    --model_type bert \\\n",
    "    --model_name_or_path \"./model/output/general/MLM_cased/wiki_eng\" \\\n",
    "    --do_train \\\n",
    "    --do_eval \\\n",
    "    --data_dir  \"/Users/mohammadakbari/WorkspaceM/Z_prj/NLP/FinalProject/nlp-project/datasets\" \\\n",
    "    --train_file \"bioasq/bioasq_to_squad_train.json\" \\\n",
    "    --predict_file \"bioasq/bioasq_to_squad_test.json\" \\\n",
    "    --char_vocab \"./CharBERT/data/dict/bert_char_vocab\" \\\n",
    "    --learning_rate 5e-5 \\\n",
    "    --num_train_epochs 2 \\\n",
    "    --save_steps 5000 \\\n",
    "    --max_seq_length 384 \\\n",
    "    --overwrite_output_dir \\\n",
    "    --doc_stride 128 \\\n",
    "    --output_dir \"./model/output/medical/bioasq/\""
   ]
  },
  {
   "cell_type": "code",
   "execution_count": null,
   "metadata": {},
   "outputs": [],
   "source": []
  }
 ],
 "metadata": {
  "kernelspec": {
   "display_name": "charbert",
   "language": "python",
   "name": "python3"
  },
  "language_info": {
   "codemirror_mode": {
    "name": "ipython",
    "version": 3
   },
   "file_extension": ".py",
   "mimetype": "text/x-python",
   "name": "python",
   "nbconvert_exporter": "python",
   "pygments_lexer": "ipython3",
   "version": "3.11.8"
  }
 },
 "nbformat": 4,
 "nbformat_minor": 2
}
